{
 "cells": [
  {
   "cell_type": "code",
   "execution_count": 0,
   "metadata": {
    "application/vnd.databricks.v1+cell": {
     "cellMetadata": {
      "byteLimit": 2048000,
      "rowLimit": 10000
     },
     "inputWidgets": {},
     "nuid": "45245b76-e31d-49a7-8b47-f14cd942eee6",
     "showTitle": false,
     "tableResultSettingsMap": {},
     "title": ""
    }
   },
   "outputs": [],
   "source": [
    "#Put your access key, secret_key and resion below\n",
    "access_key = ''\n",
    "secret_key = ''\n",
    "aws_region = ''\n",
    "\n",
    "spark._jsc.hadoopConfiguration().set(\"fs.s3a.access.key\", access_key)\n",
    "spark._jsc.hadoopConfiguration().set(\"fs.s3a.secret.key\", secret_key)\n",
    "spark._jsc.hadoopConfiguration().set(\"fs.s3a.endpoint\", f\"s3.{aws_region}.amazonaws.com\")"
   ]
  },
  {
   "cell_type": "code",
   "execution_count": 0,
   "metadata": {
    "application/vnd.databricks.v1+cell": {
     "cellMetadata": {
      "byteLimit": 2048000,
      "rowLimit": 10000
     },
     "inputWidgets": {},
     "nuid": "f1c099ef-59dd-48d7-887e-dae84ba2ee1a",
     "showTitle": false,
     "tableResultSettingsMap": {},
     "title": ""
    }
   },
   "outputs": [],
   "source": [
    "raw_data_path = \"s3://cricket-data-pipeline/raw_data/to_processed/\"\n",
    "raw_df = spark.read.json(raw_data_path)\n"
   ]
  },
  {
   "cell_type": "code",
   "execution_count": 0,
   "metadata": {
    "application/vnd.databricks.v1+cell": {
     "cellMetadata": {
      "byteLimit": 2048000,
      "rowLimit": 10000
     },
     "inputWidgets": {},
     "nuid": "bf1314fa-a3a3-41dc-a429-964cf5427f26",
     "showTitle": false,
     "tableResultSettingsMap": {},
     "title": ""
    }
   },
   "outputs": [],
   "source": [
    "from pyspark.sql.functions import col, to_timestamp, date_format, current_timestamp, to_date, col, split\n",
    "from pyspark.sql.types import DecimalType\n",
    "\n"
   ]
  },
  {
   "cell_type": "code",
   "execution_count": 0,
   "metadata": {
    "application/vnd.databricks.v1+cell": {
     "cellMetadata": {
      "byteLimit": 2048000,
      "rowLimit": 10000
     },
     "inputWidgets": {},
     "nuid": "0c9899f1-2a3d-49da-b298-039599d9b6df",
     "showTitle": false,
     "tableResultSettingsMap": {},
     "title": ""
    }
   },
   "outputs": [],
   "source": [
    "def summary():\n",
    "    summary_df = raw_df.select(\n",
    "        date_format(current_timestamp(), 'yyyy-MM-dd HH:mm:ss').alias(\"Timestamp\"),\n",
    "        col(\"match_details.series\").alias(\"Series\"),\n",
    "        col(\"match_details.series_id\").alias(\"Series_Id\"),\n",
    "        col(\"match_details.series_type\").alias(\"Series_Type\"),\n",
    "        col(\"match_details.venue\").alias(\"Venue\"),\n",
    "        col(\"match_details.venue_id\").alias(\"Venue_Id\"),\n",
    "        col(\"match_details.matchs\").alias(\"Match\"),\n",
    "        col(\"match_details.match_id\").alias(\"Match_Id\"),\n",
    "        to_timestamp(col(\"match_details.date_time\"), 'yyyy-MM-dd HH:mm:ss').alias(\"Match_Timestamp\"),\n",
    "        to_date(col(\"Match_Timestamp\")).alias(\"Match_Date\"),\n",
    "        col(\"match_details.match_time\").alias(\"Match_Time\"),\n",
    "        col(\"match_details.match_type\").alias(\"Match_Type\"),\n",
    "        col(\"match_details.toss\").alias(\"Toss\"),\n",
    "        col(\"match_details.balling_team\").cast(\"long\").alias(\"Balling_Team_Id\"),\n",
    "        col(\"match_details.batting_team\").cast(\"long\").alias(\"Batting_Team_Id\"),\n",
    "    )\n",
    "    return summary_df\n"
   ]
  },
  {
   "cell_type": "code",
   "execution_count": 0,
   "metadata": {
    "application/vnd.databricks.v1+cell": {
     "cellMetadata": {
      "byteLimit": 2048000,
      "rowLimit": 10000
     },
     "inputWidgets": {},
     "nuid": "01cd6f02-b976-405c-9f88-ffb518be258a",
     "showTitle": false,
     "tableResultSettingsMap": {},
     "title": ""
    }
   },
   "outputs": [],
   "source": [
    "def team_a():\n",
    "  team_a_df = raw_df.select(\n",
    "    date_format(current_timestamp(), 'yyyy-MM-dd HH:mm:ss').alias(\"Timestamp\"),\n",
    "    col(\"match_details.team_a_id\").alias(\"Team_A_Id\"),\n",
    "    col(\"match_details.team_a_img\").alias(\"Team_A_Image\"),\n",
    "    col(\"match_details.team_a\").alias(\"Team_A_Name\"),\n",
    "    col(\"match_details.team_a_short\").alias(\"Team_A_Shortform\"),\n",
    "    col(\"match_details.team_a_scores\").alias(\"Team_A_Scoreboard\"),\n",
    "    col(\"match_details.team_a_over\").cast(DecimalType(10, 1)).alias(\"Team_A_Over\"),\n",
    "    split(col(\"Team_A_Scoreboard\"), \"-\").getItem(0).cast(\"long\").alias(\"Team_A_Score\"),\n",
    "    split(col(\"Team_A_Scoreboard\"), \"-\").getItem(1).cast(\"long\").alias(\"Team_A_Wicket\")\n",
    "  )\n",
    "  return team_a_df\n",
    "\n"
   ]
  },
  {
   "cell_type": "code",
   "execution_count": 0,
   "metadata": {
    "application/vnd.databricks.v1+cell": {
     "cellMetadata": {
      "byteLimit": 2048000,
      "rowLimit": 10000
     },
     "inputWidgets": {},
     "nuid": "de135ce6-ef14-4f4f-a94d-c25cc895b325",
     "showTitle": false,
     "tableResultSettingsMap": {},
     "title": ""
    }
   },
   "outputs": [],
   "source": [
    "def team_b():\n",
    "  team_b_df = raw_df.select(\n",
    "    date_format(current_timestamp(), 'yyyy-MM-dd HH:mm:ss').alias(\"Timestamp\"),\n",
    "    col(\"match_details.team_b_id\").alias(\"Team_B_Id\"),\n",
    "    col(\"match_details.team_b_img\").alias(\"Team_B_Image\"),\n",
    "    col(\"match_details.team_b\").alias(\"Team_B_Name\"),\n",
    "    col(\"match_details.team_b_short\").alias(\"Team_B_Shortform\"),\n",
    "    col(\"match_details.team_b_scores\").alias(\"Team_B_Scoreboard\"),\n",
    "    col(\"match_details.team_b_over\").cast(DecimalType(10, 1)).alias(\"Team_B_Over\"),\n",
    "    split(col(\"Team_B_Scoreboard\"), \"-\").getItem(0).cast(\"long\").alias(\"Team_B_Score\"),\n",
    "    split(col(\"Team_B_Scoreboard\"), \"-\").getItem(1).cast(\"long\").alias(\"Team_B_Wicket\")\n",
    "  )\n",
    "  return team_b_df"
   ]
  },
  {
   "cell_type": "code",
   "execution_count": 0,
   "metadata": {
    "application/vnd.databricks.v1+cell": {
     "cellMetadata": {
      "byteLimit": 2048000,
      "rowLimit": 10000
     },
     "inputWidgets": {},
     "nuid": "3d6d6a1f-8a2c-4be4-b84e-1d11f8f12224",
     "showTitle": false,
     "tableResultSettingsMap": {},
     "title": ""
    }
   },
   "outputs": [],
   "source": [
    "def status():\n",
    "    status_df = raw_df.select(\n",
    "        date_format(current_timestamp(), 'yyyy-MM-dd HH:mm:ss').alias(\"Timestamp\"),\n",
    "        col(\"match_details.match_status\").alias(\"Match_Status\"),\n",
    "        col(\"match_details.team_a_id\").alias(\"Team_A_Id\"),\n",
    "        col(\"match_details.team_a\").alias(\"Team_A_Name\"),\n",
    "        col(\"match_details.team_a_over\").cast(DecimalType(10, 1)).alias(\"Team_a_Over\"),\n",
    "        col(\"match_details.team_b_id\").alias(\"Team_B_Id\"),\n",
    "        col(\"match_details.team_b\").alias(\"Team_B_Name\"),\n",
    "        col(\"match_details.team_b_over\").cast(DecimalType(10, 1)).alias(\"Team_B_Over\"),\n",
    "        col(\"match_details.trail_lead\").alias(\"Trail_Lead\"),\n",
    "        col(\"match_details.session\").alias(\"Session\"),\n",
    "        col(\"match_details.need_run_ball\").alias(\"Match_Status\"),\n",
    "        col(\"match_details.result\").alias(\"Result\")   \n",
    "    )\n",
    "    return status_df"
   ]
  },
  {
   "cell_type": "code",
   "execution_count": 0,
   "metadata": {
    "application/vnd.databricks.v1+cell": {
     "cellMetadata": {
      "byteLimit": 2048000,
      "rowLimit": 10000
     },
     "inputWidgets": {},
     "nuid": "2e747312-4696-4873-b3f3-f3967e3e233c",
     "showTitle": false,
     "tableResultSettingsMap": {},
     "title": ""
    }
   },
   "outputs": [],
   "source": [
    "def commentry():\n",
    "    commentry_df = raw_df.select(\n",
    "        date_format(current_timestamp(), 'yyyy-MM-dd HH:mm:ss').alias(\"Timestamp\"),\n",
    "        col(\"match_details.team_a_over\").cast(DecimalType(10, 1)).alias(\"Team_a_Over\"),\n",
    "        col(\"match_details.team_b_over\").cast(DecimalType(10, 1)).alias(\"Team_b_Over\"),\n",
    "        col(\"player_details.commentary\").alias(\"Commentry\")\n",
    "    )\n",
    "    return commentry_df"
   ]
  },
  {
   "cell_type": "code",
   "execution_count": 0,
   "metadata": {
    "application/vnd.databricks.v1+cell": {
     "cellMetadata": {
      "byteLimit": 2048000,
      "rowLimit": 10000
     },
     "inputWidgets": {},
     "nuid": "2a956c40-6e45-45b6-834b-0516c2eb8d63",
     "showTitle": false,
     "tableResultSettingsMap": {},
     "title": ""
    }
   },
   "outputs": [],
   "source": [
    "def batsmen():\n",
    "    batsmen_df = raw_df.select(\n",
    "        date_format(current_timestamp(), 'yyyy-MM-dd HH:mm:ss').alias(\"Timestamp\"),\n",
    "        col(\"match_details.team_a_over\").cast(DecimalType(10, 1)).alias(\"Team_A_Over\"),\n",
    "        col(\"match_details.team_b_over\").cast(DecimalType(10, 1)).alias(\"Team_B_Over\"),\n",
    "        col(\"player_details.0\").alias(\"Batsmen_Name\"),\n",
    "        col(\"player_details.1\").cast(\"long\").alias(\"Runs\"),\n",
    "        col(\"player_details.2\").cast(\"long\").alias(\"Balls\"),\n",
    "        col(\"player_details.3\").cast(\"long\").alias(\"Four\"),\n",
    "        col(\"player_details.4\").cast(\"long\").alias(\"Six\"),\n",
    "        col(\"player_details.5\").cast(DecimalType(10, 2)).alias(\"Strike_Rate\")\n",
    "    )\n",
    "    return batsmen_df"
   ]
  },
  {
   "cell_type": "code",
   "execution_count": 0,
   "metadata": {
    "application/vnd.databricks.v1+cell": {
     "cellMetadata": {
      "byteLimit": 2048000,
      "rowLimit": 10000
     },
     "inputWidgets": {},
     "nuid": "222c881b-5e09-4dfb-afb4-e20e03ba8fe0",
     "showTitle": false,
     "tableResultSettingsMap": {},
     "title": ""
    }
   },
   "outputs": [],
   "source": [
    "def bowler():\n",
    "    bowler_df = raw_df.select(\n",
    "        date_format(current_timestamp(), 'yyyy-MM-dd HH:mm:ss').alias(\"Timestamp\"),\n",
    "        col(\"match_details.team_a_over\").cast(DecimalType(10, 1)).alias(\"Team_A_Over\"),\n",
    "        col(\"match_details.team_b_over\").cast(DecimalType(10, 1)).alias(\"Team_B_Over\"),\n",
    "        col(\"player_details.16\").alias(\"Bowler_Name\"),\n",
    "        col(\"player_details.17\").cast(DecimalType(10, 1)).alias(\"Bowler_Overs\"),\n",
    "        col(\"player_details.18\").cast(\"long\").alias(\"Maiden\"),\n",
    "        col(\"player_details.19\").cast(\"long\").alias(\"Bowler_Runs\"),\n",
    "        col(\"player_details.20\").cast(\"long\").alias(\"Wickets\"),\n",
    "        col(\"player_details.21\").cast(DecimalType(10, 2)).alias(\"Economy\")\n",
    "    )\n",
    "    return bowler_df"
   ]
  },
  {
   "cell_type": "code",
   "execution_count": 0,
   "metadata": {
    "application/vnd.databricks.v1+cell": {
     "cellMetadata": {
      "byteLimit": 2048000,
      "rowLimit": 10000
     },
     "inputWidgets": {},
     "nuid": "8e5c0ba0-18bd-4d3a-9334-13ce6887439e",
     "showTitle": false,
     "tableResultSettingsMap": {},
     "title": ""
    }
   },
   "outputs": [],
   "source": [
    "Summary_data_transformed = summary()\n",
    "Team_A_data_transformed = team_a()\n",
    "Team_B_data_transformed = team_b()\n",
    "Status_data_transformed = status()\n",
    "Commentry_data_transformed = commentry()\n",
    "Batsmen_data_transformed = batsmen()\n",
    "Bowler_data_transformed = bowler()"
   ]
  },
  {
   "cell_type": "code",
   "execution_count": 0,
   "metadata": {
    "application/vnd.databricks.v1+cell": {
     "cellMetadata": {
      "byteLimit": 2048000,
      "rowLimit": 10000
     },
     "inputWidgets": {},
     "nuid": "ac3a3dce-17d3-4a0a-acc2-065715300fd3",
     "showTitle": false,
     "tableResultSettingsMap": {},
     "title": ""
    }
   },
   "outputs": [],
   "source": [
    "from datetime import datetime\n",
    "\n",
    "def write_to_s3(df, path_suffix, format_type=\"csv\"):\n",
    "    timestamp_str = datetime.now().strftime(\"%Y-%m-%d\")\n",
    "    path = f\"s3://cricket-data-pipeline/transformed_data/{path_suffix}_{timestamp_str}/\"\n",
    "\n",
    "    df.write \\\n",
    "        .format(format_type) \\\n",
    "        .option(\"header\", \"true\") \\\n",
    "        .mode(\"append\") \\\n",
    "        .save(path)\n"
   ]
  },
  {
   "cell_type": "code",
   "execution_count": 0,
   "metadata": {
    "application/vnd.databricks.v1+cell": {
     "cellMetadata": {
      "byteLimit": 2048000,
      "rowLimit": 10000
     },
     "inputWidgets": {},
     "nuid": "8a5ae7cd-ac65-4149-9a85-7dd8ac18f3f7",
     "showTitle": false,
     "tableResultSettingsMap": {},
     "title": ""
    }
   },
   "outputs": [],
   "source": [
    "write_to_s3(Summary_data_transformed, \"summary_data/summary_transformed\", format_type=\"csv\")\n",
    "write_to_s3(Commentry_data_transformed, \"commentry_data/commentry_transformed\", format_type=\"csv\")\n",
    "write_to_s3(Team_A_data_transformed, \"team_a_data/team_a_transformed\", format_type=\"csv\")\n",
    "write_to_s3(Team_B_data_transformed, \"team_b_data/team_b_transformed\", format_type=\"csv\")\n",
    "write_to_s3(Status_data_transformed, \"status_data/status_transformed\", format_type=\"csv\")\n",
    "write_to_s3(Batsmen_data_transformed, \"batsmen_data/batsmen_transformed\", format_type=\"csv\")\n",
    "write_to_s3(Bowler_data_transformed, \"bowler_data/bowler_transformed\", format_type=\"csv\")\n",
    "\n"
   ]
  },
  {
   "cell_type": "code",
   "execution_count": 0,
   "metadata": {
    "application/vnd.databricks.v1+cell": {
     "cellMetadata": {
      "byteLimit": 2048000,
      "rowLimit": 10000
     },
     "inputWidgets": {},
     "nuid": "ace512c1-dce9-44a2-b574-c599058bd32f",
     "showTitle": false,
     "tableResultSettingsMap": {},
     "title": ""
    }
   },
   "outputs": [
    {
     "name": "stdout",
     "output_type": "stream",
     "text": [
      "Successfully copied: raw_data/to_processed/cricket_data_raw_2024-11-08_09-26-36.json to raw_data/processed/cricket_data_raw_2024-11-08_09-26-36.json\n",
      "Successfully deleted: raw_data/to_processed/cricket_data_raw_2024-11-08_09-26-36.json\n",
      "Successfully copied: raw_data/to_processed/cricket_data_raw_2024-11-08_09-26-45.json to raw_data/processed/cricket_data_raw_2024-11-08_09-26-45.json\n",
      "Successfully deleted: raw_data/to_processed/cricket_data_raw_2024-11-08_09-26-45.json\n"
     ]
    }
   ],
   "source": [
    "import boto3\n",
    "s3_client = boto3.client('s3', \n",
    "                         aws_access_key_id=access_key, \n",
    "                         aws_secret_access_key=secret_key, \n",
    "                         region_name=aws_region)\n",
    "source_bucket = 'cricket-data-pipeline'\n",
    "source_prefix = 'raw_data/to_processed/'\n",
    "destination_prefix = 'raw_data/processed/'\n",
    "response = s3_client.list_objects_v2(Bucket=source_bucket, Prefix=source_prefix)\n",
    "\n",
    "if 'Contents' in response:\n",
    "    for file in response['Contents']:\n",
    "        source_file_key = file['Key']\n",
    "        destination_file_key = source_file_key.replace(source_prefix, destination_prefix)\n",
    "        \n",
    "        try:\n",
    "            s3_client.copy_object(\n",
    "                Bucket=source_bucket,\n",
    "                CopySource={'Bucket': source_bucket, 'Key': source_file_key},\n",
    "                Key=destination_file_key\n",
    "            )\n",
    "            print(f\"Successfully copied: {source_file_key} to {destination_file_key}\")\n",
    "    \n",
    "            s3_client.delete_object(Bucket=source_bucket, Key=source_file_key)\n",
    "            print(f\"Successfully deleted: {source_file_key}\")\n",
    "            \n",
    "        except Exception as e:\n",
    "            print(f\"Error moving {source_file_key}: {e}\")\n",
    "else:\n",
    "    print(\"No files found in the source folder.\")\n"
   ]
  }
 ],
 "metadata": {
  "application/vnd.databricks.v1+notebook": {
   "dashboards": [],
   "environmentMetadata": {
    "base_environment": "",
    "client": "1"
   },
   "language": "python",
   "notebookMetadata": {
    "pythonIndentUnit": 4
   },
   "notebookName": "transformation_cric_data_final",
   "widgets": {}
  },
  "language_info": {
   "name": "python"
  }
 },
 "nbformat": 4,
 "nbformat_minor": 0
}
